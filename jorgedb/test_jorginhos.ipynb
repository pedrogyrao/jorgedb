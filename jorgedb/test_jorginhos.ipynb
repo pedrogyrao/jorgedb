{
 "cells": [
  {
   "cell_type": "code",
   "execution_count": 1,
   "metadata": {},
   "outputs": [],
   "source": [
    "import time\n",
    "import os\n",
    "import json\n",
    "from sys import getsizeof"
   ]
  },
  {
   "cell_type": "code",
   "execution_count": 2,
   "metadata": {},
   "outputs": [],
   "source": [
    "def append_spaces(string, size):\n",
    "    return ('{:>'+ str(size) +'}').format(string)"
   ]
  },
  {
   "cell_type": "markdown",
   "metadata": {},
   "source": [
    "# Old Jorge"
   ]
  },
  {
   "cell_type": "code",
   "execution_count": 3,
   "metadata": {},
   "outputs": [],
   "source": [
    "class OldJorgeDB:\n",
    "    def __init__(self, block_key_size=None, path='jdb'):\n",
    "        self._path = path\n",
    "\n",
    "        if block_key_size is None:\n",
    "            with open(self._path, 'r') as f:\n",
    "                block_key_size = int(f.readline()), int(f.readline())\n",
    "                self._offset = f.tell()\n",
    "        else:\n",
    "            with open(self._path, 'w') as f:\n",
    "                f.write('{}\\n'.format(block_key_size[0]))\n",
    "                f.write('{}\\n'.format(block_key_size[1]))\n",
    "                self._offset = f.tell()\n",
    "        self._bsize, self._ksize = block_key_size\n",
    "\n",
    "        self._init_map()\n",
    "\n",
    "    def _init_map(self):\n",
    "        self._map = {}\n",
    "        with open(self._path, 'r') as f:\n",
    "            f.seek(self._offset)\n",
    "            while True:\n",
    "                position = f.tell()\n",
    "                block_size = f.read(self._bsize)\n",
    "                if len(block_size) == 0:\n",
    "                    break\n",
    "                block_size = int(block_size)\n",
    "                key = f.read(self._ksize)\n",
    "                self._map[key] = position\n",
    "                position = f.tell()\n",
    "                f.seek(position + block_size)\n",
    "\n",
    "    def _get_block(self, pointer):\n",
    "        with open(self._path, 'r') as f:\n",
    "            f.seek(pointer)\n",
    "            block_size = int(f.read(self._bsize))\n",
    "            f.seek(f.tell() + self._ksize)\n",
    "            block_string = f.read(block_size)\n",
    "        return json.loads(block_string)\n",
    "\n",
    "    def _format_data_to_save(self, key, block):\n",
    "        block = json.dumps(block)\n",
    "        block_size = append_spaces(len(block), self._bsize)\n",
    "        key = append_spaces(key, self._ksize)\n",
    "        return block_size + key + block, len(block)\n",
    "\n",
    "    def __contains__(self, key):\n",
    "        return key in self._map\n",
    "\n",
    "    def set(self, key, block):\n",
    "        data, _ = self._format_data_to_save(key, block)\n",
    "        with open(self._path, 'a') as f:\n",
    "            position = f.tell()\n",
    "            f.write(data)\n",
    "        self._map[key] = position\n",
    "\n",
    "    def __setitem__(self, key, block):\n",
    "        if key in self._map:\n",
    "            raise KeyError(\n",
    "                'Jorge located at \"{}\" already knows \"{}\" key.'.format(\n",
    "                    self._path, key))\n",
    "        self.set(key, block)\n",
    "\n",
    "    def __getitem__(self, key):\n",
    "        try:\n",
    "            position = self._map[key]\n",
    "        except KeyError:\n",
    "            raise KeyError(\n",
    "                'Jorge located at \"{}\" does not know key \"{}\".'.format(\n",
    "                    self._path, key))\n",
    "        return self._get_block(position)\n",
    "    \n",
    "    def __str__(self):\n",
    "        db_block_count = len(self._map)\n",
    "        db_memory_allocated = getsizeof(self._map) / float(1 << 20)\n",
    "        db_filesize = os.stat(self._path).st_size\n",
    "\n",
    "        message = ['Jorge located at \"{}\":'.format(self._path)]\n",
    "        message.append('Block count: {}'.format(db_block_count))\n",
    "        message.append('Memory use: {:,.1f} MB'.format(db_memory_allocated))\n",
    "        message.append('Disck consumption: {:,.1f} MB'.format(db_filesize))\n",
    "        return '\\n\\t'.join(message)\n",
    "\n"
   ]
  },
  {
   "cell_type": "markdown",
   "metadata": {},
   "source": [
    "# New Jorge"
   ]
  },
  {
   "cell_type": "code",
   "execution_count": 4,
   "metadata": {},
   "outputs": [],
   "source": [
    "class NewJorgeDB:\n",
    "    def __init__(self, block_key_size=None, path=None):\n",
    "        self._path = os.path.abspath(path)\n",
    "        self._header = self._path + '\\\\header'\n",
    "        self._blocks = self._path + '\\\\blocks'\n",
    "\n",
    "        if block_key_size is None:\n",
    "            with open(self._header, 'r') as f:\n",
    "                block_key_size = int(f.readline()), int(f.readline())\n",
    "                self._offset = f.tell()\n",
    "        else:\n",
    "            with open(self._header, 'w') as f:\n",
    "                f.write('{}\\n'.format(block_key_size[0]))\n",
    "                f.write('{}\\n'.format(block_key_size[1]))\n",
    "                self._offset = f.tell()\n",
    "        self._bsize, self._ksize = block_key_size\n",
    "\n",
    "        self._init_map()\n",
    "\n",
    "    def _init_map(self):\n",
    "        self._map = {}\n",
    "        with open(self._header, 'r') as header:\n",
    "            header.seek(self._offset)\n",
    "            block_pointer = 0\n",
    "            while True:\n",
    "                block_size = header.read(self._bsize)\n",
    "                if len(block_size) == 0:\n",
    "                    break\n",
    "                block_size = int(block_size)\n",
    "                key = header.read(self._ksize)\n",
    "                self._map[key] = block_pointer\n",
    "                block_pointer += block_size\n",
    "\n",
    "    def _get_block(self, pointer):\n",
    "        with open(self._blocks, 'r') as f:\n",
    "            f.seek(pointer)\n",
    "            block_size = int(f.read(self._bsize))\n",
    "            f.seek(f.tell() + self._ksize)\n",
    "            block_string = f.read(block_size)\n",
    "        return json.loads(block_string)\n",
    "\n",
    "    def _format_data_to_save(self, key, block):\n",
    "        block = json.dumps(block)\n",
    "        block_size = append_spaces(len(block), self._bsize)\n",
    "        key = append_spaces(key, self._ksize)\n",
    "        return block_size + key, block\n",
    "\n",
    "    def __contains__(self, key):\n",
    "        return key in self._map\n",
    "\n",
    "    def _set(self, key, block):\n",
    "        to_header, to_blocks = self._format_data_to_save(key, block)\n",
    "        with open(self._header, 'a') as header, open(self._blocks) as blocks:\n",
    "            position = blocks.tell()\n",
    "            header.write(to_header)\n",
    "            blocks.write(to_blocks)\n",
    "        self._map[key] = position\n",
    "\n",
    "    def __setitem__(self, key, block):\n",
    "        if key in self._map:\n",
    "            raise KeyError(\n",
    "                'Jorge located at \"{}\" already knows \"{}\" key.'.format(\n",
    "                    self._path, key))\n",
    "        self._set(key, block)\n",
    "\n",
    "    def __getitem__(self, key):\n",
    "        try:\n",
    "            position = self._map[key]\n",
    "        except KeyError:\n",
    "            raise KeyError(\n",
    "                'Jorge located at \"{}\" does not know key \"{}\".'.format(\n",
    "                    self._path, key))\n",
    "        return self._get_block(position)\n",
    "\n",
    "    def __str__(self):\n",
    "        db_block_count = len(self._map)\n",
    "        db_memory_allocated = getsizeof(self._map) / float(1 << 20)\n",
    "        db_filesize = os.stat(self._header).st_size\n",
    "        db_filesize += os.stat(self._blocks).st_size\n",
    "        db_filesize /= float(1 << 20)\n",
    "\n",
    "        message = ['Jorge located at \"{}\":'.format(self._path)]\n",
    "        message.append('Block count: {}'.format(db_block_count))\n",
    "        message.append('Memory use: {:,.1f} MB'.format(db_memory_allocated))\n",
    "        message.append('Disck consumption: {:,.1f} MB'.format(db_filesize))\n",
    "        return '\\n\\t'.join(message)\n"
   ]
  },
  {
   "cell_type": "markdown",
   "metadata": {},
   "source": [
    "# Jorges Comparison"
   ]
  },
  {
   "cell_type": "code",
   "execution_count": 5,
   "metadata": {},
   "outputs": [
    {
     "name": "stdout",
     "output_type": "stream",
     "text": [
      "Took 38.23363971710205s to load jorginho.\n"
     ]
    }
   ],
   "source": [
    "ref = time.time()\n",
    "old_jorginho = OldJorgeDB(path='1bjorge')\n",
    "ref2 = time.time()\n",
    "print('Took {}s to load jorginho.'.format(ref2 - ref))"
   ]
  },
  {
   "cell_type": "code",
   "execution_count": 6,
   "metadata": {},
   "outputs": [
    {
     "name": "stdout",
     "output_type": "stream",
     "text": [
      "Took 1.2054505348205566s to load jorginho.\n"
     ]
    }
   ],
   "source": [
    "ref = time.time()\n",
    "new_jorginho = NewJorgeDB()\n",
    "ref2 = time.time()\n",
    "print('Took {}s to load jorginho.'.format(ref2 - ref))"
   ]
  },
  {
   "cell_type": "code",
   "execution_count": 7,
   "metadata": {},
   "outputs": [
    {
     "data": {
      "text/plain": [
       "True"
      ]
     },
     "execution_count": 7,
     "metadata": {},
     "output_type": "execute_result"
    }
   ],
   "source": [
    "k1 = list(old_jorginho._map.keys())[-1]\n",
    "k2 = list(new_jorginho._map.keys())[-1]\n",
    "k1 == k2"
   ]
  },
  {
   "cell_type": "code",
   "execution_count": 8,
   "metadata": {},
   "outputs": [],
   "source": [
    "import sys"
   ]
  },
  {
   "cell_type": "code",
   "execution_count": 9,
   "metadata": {},
   "outputs": [
    {
     "data": {
      "text/plain": [
       "40.000099182128906"
      ]
     },
     "execution_count": 9,
     "metadata": {},
     "output_type": "execute_result"
    }
   ],
   "source": [
    "sys.getsizeof(old_jorginho._map) / float(1 << 20)"
   ]
  },
  {
   "cell_type": "code",
   "execution_count": 10,
   "metadata": {},
   "outputs": [
    {
     "data": {
      "text/plain": [
       "40.000099182128906"
      ]
     },
     "execution_count": 10,
     "metadata": {},
     "output_type": "execute_result"
    }
   ],
   "source": [
    "sys.getsizeof(new_jorginho._map) / float(1 << 20)"
   ]
  },
  {
   "cell_type": "code",
   "execution_count": 11,
   "metadata": {},
   "outputs": [
    {
     "name": "stdout",
     "output_type": "stream",
     "text": [
      "Old Implementation.\n",
      "Jorge located at \"1bjorge\":\n",
      "\tBlock count: 1000001\n",
      "\tMemory use: 40.0 MB\n",
      "\tDisck consumption: 425,659,427.0 MB\n",
      "____________\n",
      "New Implementation.\n",
      "Jorge located at \"D:\\python_projects\\jorgedb\\jorgedb\":\n",
      "\tBlock count: 1000001\n",
      "\tMemory use: 40.0 MB\n",
      "\tDisck consumption: 405.9 MB\n"
     ]
    }
   ],
   "source": [
    "print('Old Implementation.')\n",
    "print(old_jorginho)\n",
    "print('____________')\n",
    "print('New Implementation.')\n",
    "print(new_jorginho)"
   ]
  },
  {
   "cell_type": "code",
   "execution_count": null,
   "metadata": {},
   "outputs": [],
   "source": []
  }
 ],
 "metadata": {
  "kernelspec": {
   "display_name": "Python 3",
   "language": "python",
   "name": "python3"
  },
  "language_info": {
   "codemirror_mode": {
    "name": "ipython",
    "version": 3
   },
   "file_extension": ".py",
   "mimetype": "text/x-python",
   "name": "python",
   "nbconvert_exporter": "python",
   "pygments_lexer": "ipython3",
   "version": "3.6.5rc1"
  },
  "toc": {
   "base_numbering": 1,
   "nav_menu": {},
   "number_sections": true,
   "sideBar": true,
   "skip_h1_title": false,
   "title_cell": "Table of Contents",
   "title_sidebar": "Contents",
   "toc_cell": false,
   "toc_position": {},
   "toc_section_display": true,
   "toc_window_display": false
  }
 },
 "nbformat": 4,
 "nbformat_minor": 2
}
